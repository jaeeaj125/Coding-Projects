{
 "cells": [
  {
   "cell_type": "markdown",
   "metadata": {},
   "source": [
    "# Tic Tac Toe Game"
   ]
  },
  {
   "cell_type": "markdown",
   "metadata": {},
   "source": [
    "## Pre-difined functions:\n",
    "**Displaying:**\n",
    "In order to displaying the game board, let's create a function to draw the lines and spaces for playing."
   ]
  },
  {
   "cell_type": "code",
   "execution_count": 1,
   "metadata": {},
   "outputs": [],
   "source": [
    "from IPython.display import clear_output\n",
    "\n",
    "def display_board(board):\n",
    "    display_type = {'1':' ','2':' | ','3':'---+---+---'}\n",
    "    print(display_type['1']+board[7]+display_type['2']+board[8]+display_type['2']+board[9]+display_type['1'])\n",
    "    print(display_type['3'])\n",
    "    print(display_type['1']+board[4]+display_type['2']+board[5]+display_type['2']+board[6]+display_type['1'])\n",
    "    print(display_type['3'])\n",
    "    print(display_type['1']+board[1]+display_type['2']+board[2]+display_type['2']+board[3]+display_type['1'])    "
   ]
  },
  {
   "cell_type": "markdown",
   "metadata": {},
   "source": [
    "**Get player's mark:**\n",
    "Asking the player to choose O or X and show the result of their choice."
   ]
  },
  {
   "cell_type": "code",
   "execution_count": 2,
   "metadata": {},
   "outputs": [],
   "source": [
    "def player_input():\n",
    "    player_mark = False\n",
    "    while not player_mark:        \n",
    "        player1_mark = input('Player1, please choose X or O (X/O):').upper()\n",
    "        if player1_mark == 'X':\n",
    "            player_mark = True\n",
    "            player2_mark = 'O'\n",
    "            print('Player1 will be X and player2 will be O!')\n",
    "        elif player1_mark == 'O':\n",
    "            player_mark = True\n",
    "            player2_mark = 'X'\n",
    "            print('Player1 will be O and player2 will be X!')\n",
    "        else:\n",
    "            print('Invalid input!')    \n",
    "    return player1_mark,player2_mark"
   ]
  },
  {
   "cell_type": "markdown",
   "metadata": {},
   "source": [
    "**Starter:**\n",
    "Here we import random library to generate random integer for 1 to 2 for assigning the first player, this number will be set to represent the current player and used to assign works."
   ]
  },
  {
   "cell_type": "code",
   "execution_count": 5,
   "metadata": {},
   "outputs": [],
   "source": [
    "import random\n",
    "\n",
    "def choose_first():\n",
    "    return random.randint(1,2)"
   ]
  },
  {
   "cell_type": "markdown",
   "metadata": {},
   "source": [
    "**Get and mark player's choice:**\n",
    "While trying to get the player's choice, we need to check if the position is already marked or not. Besides, the input should be inside the range of 1 to 9, or the system should display an error message."
   ]
  },
  {
   "cell_type": "code",
   "execution_count": 6,
   "metadata": {},
   "outputs": [],
   "source": [
    "def space_check(board, position):    \n",
    "    return board[position] == \" \" "
   ]
  },
  {
   "cell_type": "code",
   "execution_count": 8,
   "metadata": {},
   "outputs": [],
   "source": [
    "def player_choice(board):    \n",
    "    choice = 'NOT YET'\n",
    "    while not choice.isdigit():\n",
    "        choice = input('Please choose a position (1~9): ')\n",
    "        if not choice.isdigit():\n",
    "            print('Invalid Input!')\n",
    "        elif int(choice) not in range(1,10):\n",
    "            print('Position out of range, please choose another position!')\n",
    "            choice = 'NOT YET' #Keep the loop continuing\n",
    "        elif not space_check(board,int(choice)):\n",
    "            print('The position is already marked!')\n",
    "            choice = 'NOT YET' #Keep the loop continuing\n",
    "        else:\n",
    "            return int(choice)"
   ]
  },
  {
   "cell_type": "code",
   "execution_count": 3,
   "metadata": {},
   "outputs": [],
   "source": [
    "def place_marker(board, marker, position):    \n",
    "    board[position] = marker    \n",
    "    return board    "
   ]
  },
  {
   "cell_type": "markdown",
   "metadata": {},
   "source": [
    "**Check state:**\n",
    "There are two situation to end the game. The first is when someone get his/her mark in line, which is the win result. The other is when there is no winner and the spaces are all marked."
   ]
  },
  {
   "cell_type": "code",
   "execution_count": 7,
   "metadata": {},
   "outputs": [],
   "source": [
    "def full_board_check(board):    \n",
    "    return not \" \" in board"
   ]
  },
  {
   "cell_type": "code",
   "execution_count": 4,
   "metadata": {},
   "outputs": [],
   "source": [
    "def win_check(board, mark):\n",
    "    win_arr = [mark,mark,mark]\n",
    "    if board[1:4] == win_arr or board[4:7] == win_arr or board[7:10] == win_arr:\n",
    "        return True\n",
    "    elif board[1:8:3] == win_arr or board[2:9:3] == win_arr or board[3:10:3] == win_arr:\n",
    "        return True\n",
    "    elif board[1:10:4] == win_arr or board[3:8:2] == win_arr:\n",
    "        return True\n",
    "    else:\n",
    "        return False"
   ]
  },
  {
   "cell_type": "markdown",
   "metadata": {},
   "source": [
    "**Replaying:**\n",
    "Here we create a function to ask the players whether they want to replay the game or not."
   ]
  },
  {
   "cell_type": "code",
   "execution_count": 9,
   "metadata": {},
   "outputs": [],
   "source": [
    "def replay():    \n",
    "    ans = ''\n",
    "    while ans != 'Y' and ans != 'N':\n",
    "        ans = input('Do you want to play again? (Y/N)').upper()\n",
    "        print(ans)\n",
    "    if ans == 'Y':\n",
    "        return True\n",
    "    else:\n",
    "        return False"
   ]
  },
  {
   "cell_type": "markdown",
   "metadata": {},
   "source": [
    "## Final result"
   ]
  },
  {
   "cell_type": "code",
   "execution_count": 13,
   "metadata": {},
   "outputs": [],
   "source": [
    "import time #Import time for time pausing\n",
    "\n",
    "print('Welcome to Tic Tac Toe!\\n')\n",
    "start = True\n",
    "while start:\n",
    "    \n",
    "    #Game setting and introduction\n",
    "    game_board = [' ',' ',' ',' ',' ',' ',' ',' ',' ',' ']\n",
    "    sample_board = ['#','1','2','3','4','5','6','7','8','9']\n",
    "    print('This is the sample gameboard, the numbers in the box represent the positions for putting marks in.\\n')\n",
    "    display_board(sample_board)\n",
    "    print(\"\\nLet's start the game with an empty gameboard.\\n\")\n",
    "    display_board(game_board)\n",
    "    print('\\n')\n",
    "    \n",
    "    #Create player information for calling\n",
    "    [player1_mark,player2_mark] = player_input()\n",
    "    player_name = ['#','Player1','Player2']\n",
    "    player_id = {'Player1':player1_mark,'Player2':player2_mark}\n",
    "    current = choose_first() #variable for identifying who is the current player\n",
    "    print('\\n{} will go first!\\n'.format(player_name[current]))\n",
    "    \n",
    "    #Start playing\n",
    "    finish = False\n",
    "    while not finish:\n",
    "        game_board[player_choice(game_board)] = player_id[player_name[current]]\n",
    "        display_board(game_board)\n",
    "        if win_check(game_board,player_id[player_name[current]]):\n",
    "            finish = True\n",
    "            print(f\"\\nCongradulation! {player_name[current]} win the game!\")\n",
    "        elif full_board_check(game_board):\n",
    "            finish = True\n",
    "            print(\"\\nThe game board is full.\")\n",
    "        else:\n",
    "            if current == 1:\n",
    "                current = 2\n",
    "            else:\n",
    "                current = 1\n",
    "    if replay():\n",
    "        clear_output()\n",
    "        pass\n",
    "    else:\n",
    "        break\n",
    "        \n",
    "#The end of the game\n",
    "clear_output()\n",
    "print('\\nThis is the end of the game, thanks for playing!\\n')\n",
    "time.sleep(2.0)\n",
    "clear_output()"
   ]
  },
  {
   "cell_type": "markdown",
   "metadata": {},
   "source": [
    "##### Created in 2021/02/13 by Jae-Yu Yeh"
   ]
  }
 ],
 "metadata": {
  "kernelspec": {
   "display_name": "Python 3",
   "language": "python",
   "name": "python3"
  },
  "language_info": {
   "codemirror_mode": {
    "name": "ipython",
    "version": 3
   },
   "file_extension": ".py",
   "mimetype": "text/x-python",
   "name": "python",
   "nbconvert_exporter": "python",
   "pygments_lexer": "ipython3",
   "version": "3.8.5"
  }
 },
 "nbformat": 4,
 "nbformat_minor": 4
}
